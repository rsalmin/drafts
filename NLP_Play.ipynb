{
  "nbformat": 4,
  "nbformat_minor": 0,
  "metadata": {
    "colab": {
      "name": "NLP_Play.ipynb",
      "provenance": [],
      "authorship_tag": "ABX9TyMLUIphTd+OSh93MUKaNBgl",
      "include_colab_link": true
    },
    "kernelspec": {
      "name": "python3",
      "display_name": "Python 3"
    }
  },
  "cells": [
    {
      "cell_type": "markdown",
      "metadata": {
        "id": "view-in-github",
        "colab_type": "text"
      },
      "source": [
        "<a href=\"https://colab.research.google.com/github/rsalmin/drafts/blob/master/NLP_Play.ipynb\" target=\"_parent\"><img src=\"https://colab.research.google.com/assets/colab-badge.svg\" alt=\"Open In Colab\"/></a>"
      ]
    },
    {
      "cell_type": "markdown",
      "metadata": {
        "id": "wVsjMO1LtcKt"
      },
      "source": [
        "Playing with NLP following coursera course..."
      ]
    },
    {
      "cell_type": "code",
      "metadata": {
        "id": "h82laKvVtruR"
      },
      "source": [
        "from nltk.corpus import twitter_samples\n",
        "from nltk.corpus import stopwords\n",
        "from nltk.tokenize import TweetTokenizer\n",
        "import nltk\n",
        "import numpy as np\n",
        "import matplotlib.pyplot as plt\n"
      ],
      "execution_count": 40,
      "outputs": []
    },
    {
      "cell_type": "code",
      "metadata": {
        "colab": {
          "base_uri": "https://localhost:8080/"
        },
        "id": "x5z07LgAtvUD",
        "outputId": "2e29963b-3ed2-4ec4-86db-7bd39102723f"
      },
      "source": [
        "nltk.download('twitter_samples')\n",
        "nltk.download('stopwords')\n",
        "twitter_samples.ensure_loaded()\n",
        "print(twitter_samples.fileids())\n",
        "\n",
        "all_positive_tweets = twitter_samples.strings('positive_tweets.json')\n",
        "all_negative_tweets = twitter_samples.strings('negative_tweets.json')\n",
        "swords = stopwords.words('english')\n",
        "\n",
        "print(f'positive tweets {len(all_positive_tweets)}')\n",
        "print(f'netative tweets {len(all_negative_tweets)}')\n",
        "print(f'first positive tweet {all_positive_tweets[0]}')\n",
        "print(f'first negative tweet {all_negative_tweets[0]}')\n",
        "\n",
        "print(f'stop words {len(swords)}')\n",
        "print(f'stop words list {swords}')"
      ],
      "execution_count": 45,
      "outputs": [
        {
          "output_type": "stream",
          "text": [
            "[nltk_data] Downloading package twitter_samples to /root/nltk_data...\n",
            "[nltk_data]   Package twitter_samples is already up-to-date!\n",
            "[nltk_data] Downloading package stopwords to /root/nltk_data...\n",
            "[nltk_data]   Package stopwords is already up-to-date!\n",
            "['negative_tweets.json', 'positive_tweets.json', 'tweets.20150430-223406.json']\n",
            "positive tweets 5000\n",
            "netative tweets 5000\n",
            "first positive tweet #FollowFriday @France_Inte @PKuchly57 @Milipol_Paris for being top engaged members in my community this week :)\n",
            "first negative tweet hopeless for tmr :(\n",
            "stop words 179\n",
            "stop words list ['i', 'me', 'my', 'myself', 'we', 'our', 'ours', 'ourselves', 'you', \"you're\", \"you've\", \"you'll\", \"you'd\", 'your', 'yours', 'yourself', 'yourselves', 'he', 'him', 'his', 'himself', 'she', \"she's\", 'her', 'hers', 'herself', 'it', \"it's\", 'its', 'itself', 'they', 'them', 'their', 'theirs', 'themselves', 'what', 'which', 'who', 'whom', 'this', 'that', \"that'll\", 'these', 'those', 'am', 'is', 'are', 'was', 'were', 'be', 'been', 'being', 'have', 'has', 'had', 'having', 'do', 'does', 'did', 'doing', 'a', 'an', 'the', 'and', 'but', 'if', 'or', 'because', 'as', 'until', 'while', 'of', 'at', 'by', 'for', 'with', 'about', 'against', 'between', 'into', 'through', 'during', 'before', 'after', 'above', 'below', 'to', 'from', 'up', 'down', 'in', 'out', 'on', 'off', 'over', 'under', 'again', 'further', 'then', 'once', 'here', 'there', 'when', 'where', 'why', 'how', 'all', 'any', 'both', 'each', 'few', 'more', 'most', 'other', 'some', 'such', 'no', 'nor', 'not', 'only', 'own', 'same', 'so', 'than', 'too', 'very', 's', 't', 'can', 'will', 'just', 'don', \"don't\", 'should', \"should've\", 'now', 'd', 'll', 'm', 'o', 're', 've', 'y', 'ain', 'aren', \"aren't\", 'couldn', \"couldn't\", 'didn', \"didn't\", 'doesn', \"doesn't\", 'hadn', \"hadn't\", 'hasn', \"hasn't\", 'haven', \"haven't\", 'isn', \"isn't\", 'ma', 'mightn', \"mightn't\", 'mustn', \"mustn't\", 'needn', \"needn't\", 'shan', \"shan't\", 'shouldn', \"shouldn't\", 'wasn', \"wasn't\", 'weren', \"weren't\", 'won', \"won't\", 'wouldn', \"wouldn't\"]\n"
          ],
          "name": "stdout"
        }
      ]
    },
    {
      "cell_type": "code",
      "metadata": {
        "id": "5N3CFYck2xnR"
      },
      "source": [
        ""
      ],
      "execution_count": 35,
      "outputs": []
    },
    {
      "cell_type": "code",
      "metadata": {
        "id": "6oWng4fWv5Vs"
      },
      "source": [
        "def preprocess_tweets(tweets):\n",
        "  tokenizer = TweetTokenizer(strip_handles = True, preserve_case = False)\n",
        "\n",
        "  result = []\n",
        "  for tweet in tweets:\n",
        "      preprocessed_tweet = []\n",
        "      for word in tokenizer.tokenize(tweet):\n",
        "        if word not in swords:\n",
        "          preprocessed_tweet.append(word)\n",
        "      result.append( preprocessed_tweet )\n",
        "  \n",
        "  return result\n"
      ],
      "execution_count": 50,
      "outputs": []
    },
    {
      "cell_type": "code",
      "metadata": {
        "colab": {
          "base_uri": "https://localhost:8080/"
        },
        "id": "uK28tFUWz_g5",
        "outputId": "ee16f9bd-fad5-46c5-a3cb-d46b1619b1c3"
      },
      "source": [
        "positive_tweets = preprocess_tweets(all_positive_tweets)\n",
        "negative_tweets = preprocess_tweets(all_negative_tweets)\n",
        "print(f'first preprocessed positive tweet {positive_tweets[0]}')\n",
        "print(f'first preprocessed negative tweet {negative_tweets[0]}')"
      ],
      "execution_count": 53,
      "outputs": [
        {
          "output_type": "stream",
          "text": [
            "first preprocessed positive tweet ['#followfriday', 'top', 'engaged', 'members', 'community', 'week', ':)']\n",
            "first preprocessed negative tweet ['hopeless', 'tmr', ':(']\n"
          ],
          "name": "stdout"
        }
      ]
    },
    {
      "cell_type": "code",
      "metadata": {
        "id": "6FAXjBoN6yRO"
      },
      "source": [
        "def build_freqs(tweets):\n",
        "  freqs = {}\n",
        "  for tweet in tweets:\n",
        "    for word in tweet:\n",
        "      freqs[word] = freqs.get(word, 0) + 1\n",
        "  return freqs"
      ],
      "execution_count": 54,
      "outputs": []
    },
    {
      "cell_type": "code",
      "metadata": {
        "id": "RYkgNoYf682s"
      },
      "source": [
        "positive_freqs = build_freqs(positive_tweets)\n",
        "negative_freqs = build_freqs(negative_tweets)"
      ],
      "execution_count": 55,
      "outputs": []
    },
    {
      "cell_type": "code",
      "metadata": {
        "id": "JcmzctOIAgec"
      },
      "source": [
        "def make_features(tweets, positive_freqs, negative_freqs):\n",
        "\n",
        "  features = []\n",
        "  for tweet in tweets:\n",
        "    feature = np.ones((3))  \n",
        "    positives = 0\n",
        "    negatives = 0    \n",
        "    for word in tweet:\n",
        "      positives += positive_freqs.get(word, 0)\n",
        "      negatives += negative_freqs.get(word, 0)\n",
        "    feature[1] = positives\n",
        "    feature[2] = negatives\n",
        "    features.append( feature )\n",
        "  return features"
      ],
      "execution_count": 58,
      "outputs": []
    },
    {
      "cell_type": "code",
      "metadata": {
        "id": "VsSckLO8AtJ2"
      },
      "source": [
        ""
      ],
      "execution_count": null,
      "outputs": []
    }
  ]
}