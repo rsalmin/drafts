{
  "nbformat": 4,
  "nbformat_minor": 0,
  "metadata": {
    "colab": {
      "name": "Untitled0.ipynb",
      "provenance": [],
      "include_colab_link": true
    },
    "kernelspec": {
      "name": "python3",
      "display_name": "Python 3"
    }
  },
  "cells": [
    {
      "cell_type": "markdown",
      "metadata": {
        "id": "view-in-github",
        "colab_type": "text"
      },
      "source": [
        "<a href=\"https://colab.research.google.com/github/rsalmin/drafts/blob/master/about-one-task.ipynb\" target=\"_parent\"><img src=\"https://colab.research.google.com/assets/colab-badge.svg\" alt=\"Open In Colab\"/></a>"
      ]
    },
    {
      "cell_type": "markdown",
      "metadata": {
        "id": "v0wUKD1zYA1q",
        "colab_type": "text"
      },
      "source": [
        "# Разберём одну задачу\n",
        "\n",
        "Пусть у нас есть множество с $M$ элементами и мы выбираем $m$ любых элементов пренадлежащих этому множеству. Сначала определим какова вероятность того, хотя бы два элемента из $m$ буду одинаковы? Для этого посчитаем вероятность того, что все элементы будут разные. \n",
        "Способов выбрать $m$ разных элементов \n",
        "$$A^m_M = \\frac{M!}{(M-m)!}$$\n",
        "А способов выбрать $m$ элементов $M^m$ по этому наша вероятность будет равна\n",
        "$$P_{all\\_diff} = \\frac{M!}{(M-m)!M^m} = \\frac{(M-1)!}{(M-m)!M^{(m-1)}} = \\prod_{i=1}^{m-1}(1-\\frac{i}{M})$$\n",
        "А искомая\n",
        "$$\n",
        " P_{coin} = 1 - P_{all\\_diff} = 1 - \\prod_{i=1}^{m-1}(1-\\frac{i}{M})\n",
        "$$\n"
      ]
    },
    {
      "cell_type": "code",
      "metadata": {
        "id": "DAqOYIlkX0Hd",
        "colab_type": "code",
        "colab": {}
      },
      "source": [
        "import numpy as np\n",
        "\n",
        "#expeting m > 1, if m == 1 result is 0\n",
        "def pMm(M, m):\n",
        "  return 1 - np.prod( 1 - np.arange(1,m, dtype=np.float64) / M )"
      ],
      "execution_count": 0,
      "outputs": []
    },
    {
      "cell_type": "markdown",
      "metadata": {
        "id": "awC09OoTiP1A",
        "colab_type": "text"
      },
      "source": [
        "Например вероятность того что в класе из 30 человек, хотя бы у двоих совпадут дни рождения будет:"
      ]
    },
    {
      "cell_type": "code",
      "metadata": {
        "id": "M6NT_t9GiZ8Y",
        "colab_type": "code",
        "outputId": "f2274611-a454-4c1c-82e9-1f9c3fdc4a33",
        "colab": {
          "base_uri": "https://localhost:8080/",
          "height": 35
        }
      },
      "source": [
        "pMm(365,30)"
      ],
      "execution_count": 11,
      "outputs": [
        {
          "output_type": "execute_result",
          "data": {
            "text/plain": [
              "0.7063162427192687"
            ]
          },
          "metadata": {
            "tags": []
          },
          "execution_count": 11
        }
      ]
    },
    {
      "cell_type": "code",
      "metadata": {
        "id": "4XDPAD50icv5",
        "colab_type": "code",
        "outputId": "43f3ad6f-0b55-4d4b-dd1c-5d50005df908",
        "colab": {
          "base_uri": "https://localhost:8080/",
          "height": 279
        }
      },
      "source": [
        "import matplotlib.pyplot as plt\n",
        "\n",
        "xs = np.arange(2,400,2)\n",
        "ys = [pMm(365,x) for x in xs]\n",
        "plt.plot(xs, ys, 'b')\n",
        "plt.xlabel(\"человек в классе\")\n",
        "plt.ylabel(\"вероятность совпадения ДР\")\n",
        "plt.show()"
      ],
      "execution_count": 12,
      "outputs": [
        {
          "output_type": "display_data",
          "data": {
            "image/png": "[encoded data removed]",
            "text/plain": [
              "<Figure size 432x288 with 1 Axes>"
            ]
          },
          "metadata": {
            "tags": []
          }
        }
      ]
    },
    {
      "cell_type": "markdown",
      "metadata": {
        "id": "RHFvpL80ls00",
        "colab_type": "text"
      },
      "source": [
        "# Но нас интересует обратная задача\n",
        "\n",
        "Определить мощность множества по наличию совпадения.\n",
        "\n",
        "Событие $A$ - это событие того, что мощность исходного множества $M$. Событие $B$ - это событие того, что в выбранных (из исходного множетсва) $m$ элементов содержится хотя бы два одинаковых. \n",
        " Т.е. мы прикинули $P(B)$ и хотим оценить $P(A|B)$. При этом  $P(B|A) = P_{coin}$ - мы уже посчитали раньше. Посчитаем $P(A|B)$ по теореме Байеса\n",
        "$$\n",
        " P(A|B) = \\frac{P(B|A)P(A)}{P(B)}\n",
        "$$\n",
        " $P(A)$ - константа"
      ]
    },
    {
      "cell_type": "code",
      "metadata": {
        "id": "yENn79qvl-C-",
        "colab_type": "code",
        "outputId": "6b903929-ce6b-44d6-fe98-db9d9c103a47",
        "colab": {
          "base_uri": "https://localhost:8080/",
          "height": 295
        }
      },
      "source": [
        "xs1 = np.arange(1,4000,10)\n",
        "ys1 = [pMm(x, 30) for x in xs1]\n",
        "\n",
        "xs2 = np.arange(1,100,1)\n",
        "ys2 = [pMm(x, 3) for x in xs2]\n",
        "\n",
        "fig, (ax1,ax2) = plt.subplots(1,2)\n",
        "\n",
        "ax1.plot(xs1, ys1, \"g\")\n",
        "ax1.set_title(\"m = 30\")\n",
        "ax1.set_xlabel(\"days in year\")\n",
        "ax1.set_ylabel(\"probability of coincidence\")\n",
        "\n",
        "ax2.plot(xs2, ys2, \"g\")\n",
        "ax2.set_title(\"m = 3\")\n",
        "ax2.set_xlabel(\"days in year\")\n",
        "ax2.set_ylabel(\"probability of coincidence\")\n",
        "plt.show()"
      ],
      "execution_count": 13,
      "outputs": [
        {
          "output_type": "display_data",
          "data": {
            "image/png": "[encoded data removed]",
            "text/plain": [
              "<Figure size 432x288 with 2 Axes>"
            ]
          },
          "metadata": {
            "tags": []
          }
        }
      ]
    },
    {
      "cell_type": "code",
      "metadata": {
        "id": "_eiOf5ZM-xhy",
        "colab_type": "code",
        "colab": {}
      },
      "source": [
        ""
      ],
      "execution_count": 0,
      "outputs": []
    }
  ]
}