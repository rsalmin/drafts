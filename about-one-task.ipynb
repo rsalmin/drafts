{
  "nbformat": 4,
  "nbformat_minor": 0,
  "metadata": {
    "colab": {
      "name": "Untitled0.ipynb",
      "provenance": [],
      "include_colab_link": true
    },
    "kernelspec": {
      "name": "python3",
      "display_name": "Python 3"
    }
  },
  "cells": [
    {
      "cell_type": "markdown",
      "metadata": {
        "id": "view-in-github",
        "colab_type": "text"
      },
      "source": [
        "<a href=\"https://colab.research.google.com/github/rsalmin/drafts/blob/master/about-one-task.ipynb\" target=\"_parent\"><img src=\"https://colab.research.google.com/assets/colab-badge.svg\" alt=\"Open In Colab\"/></a>"
      ]
    },
    {
      "cell_type": "code",
      "metadata": {
        "id": "obAWD-UFYADx",
        "colab_type": "code",
        "colab": {}
      },
      "source": [
        ""
      ],
      "execution_count": 0,
      "outputs": []
    },
    {
      "cell_type": "markdown",
      "metadata": {
        "id": "v0wUKD1zYA1q",
        "colab_type": "text"
      },
      "source": [
        "# Разберём одну задачу\n",
        "\n",
        "Пусть у нас есть множество с $M$ элементами и мы выбираем $m$ любых элементов пренадлежащих этому множеству. Сначала определим какова вероятность того, хотя бы два элемента из $m$ буду одинаковы? Для этого посчитаем вероятность того, что все элементы будут разные. \n",
        "Способов выбрать $m$ разных элементов \n",
        "$$A^m_M = \\frac{M!}{(M-m)!}$$\n",
        "А способов выбрать $m$ элементов $M^m$ по этому наша вероятность будет равна\n",
        "$$P_{все\\_разные} = \\frac{M!}{(M-m)!M^m} = \\frac{(M-1)!}{(M-m)!M^{(m-1)}} = \\prod_{i=1}^{m-1}(1-\\frac{i}{M})$$\n",
        "А искомая\n",
        "$$\n",
        " P = 1 - P_{все\\_разные}\n",
        "$$\n"
      ]
    },
    {
      "cell_type": "code",
      "metadata": {
        "id": "DAqOYIlkX0Hd",
        "colab_type": "code",
        "colab": {}
      },
      "source": [
        "import numpy as np\n",
        "\n",
        "#expeting m > 1, if m == 1 result is 0\n",
        "def pMm(M, m):\n",
        "  return 1 - np.prod( 1 - np.arange(1,m-1, dtype=np.float64) / M )"
      ],
      "execution_count": 0,
      "outputs": []
    },
    {
      "cell_type": "markdown",
      "metadata": {
        "id": "awC09OoTiP1A",
        "colab_type": "text"
      },
      "source": [
        "Например вероятность того что в класе из 30 человек, хотя бы у двоих совпадут дни рождения будет:"
      ]
    },
    {
      "cell_type": "code",
      "metadata": {
        "id": "M6NT_t9GiZ8Y",
        "colab_type": "code",
        "colab": {
          "base_uri": "https://localhost:8080/",
          "height": 35
        },
        "outputId": "f10fe7b6-7890-4dba-f41c-4159d4cba6eb"
      },
      "source": [
        "pMm(365,30)"
      ],
      "execution_count": 4,
      "outputs": [
        {
          "output_type": "execute_result",
          "data": {
            "text/plain": [
              "0.680968537477777"
            ]
          },
          "metadata": {
            "tags": []
          },
          "execution_count": 4
        }
      ]
    },
    {
      "cell_type": "code",
      "metadata": {
        "id": "4XDPAD50icv5",
        "colab_type": "code",
        "colab": {
          "base_uri": "https://localhost:8080/",
          "height": 279
        },
        "outputId": "23047c7e-36b2-45c0-915b-f917343bb4cb"
      },
      "source": [
        "import matplotlib.pyplot as plt\n",
        "\n",
        "xs = np.arange(2,400,2)\n",
        "ys = [pMm(365,x) for x in xs]\n",
        "plt.plot(xs, ys, 'b')\n",
        "plt.xlabel(\"человек в классе\")\n",
        "plt.ylabel(\"вероятность совпадения ДР\")\n",
        "plt.show()"
      ],
      "execution_count": 8,
      "outputs": [
        {
          "output_type": "display_data",
          "data": {
            "image/png": "[encoded data removed]",
            "text/plain": [
              "<Figure size 432x288 with 1 Axes>"
            ]
          },
          "metadata": {
            "tags": []
          }
        }
      ]
    },
    {
      "cell_type": "markdown",
      "metadata": {
        "id": "RHFvpL80ls00",
        "colab_type": "text"
      },
      "source": [
        "# Но нас интересует обратная задача\n",
        "\n",
        "Определить мощность множества по наличию совпадения."
      ]
    },
    {
      "cell_type": "code",
      "metadata": {
        "id": "yENn79qvl-C-",
        "colab_type": "code",
        "colab": {}
      },
      "source": [
        ""
      ],
      "execution_count": 0,
      "outputs": []
    }
  ]
}